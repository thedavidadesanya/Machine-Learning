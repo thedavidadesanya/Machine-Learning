{
 "cells": [
  {
   "cell_type": "code",
   "execution_count": 1,
   "id": "aa548750",
   "metadata": {},
   "outputs": [
    {
     "name": "stdout",
     "output_type": "stream",
     "text": [
      "6.140000000000001\n"
     ]
    }
   ],
   "source": [
    "#Activity 1: Data Types\n",
    "a = 3    #integer\n",
    "b = 3.14  #floating point\n",
    "\n",
    "print(a + b)"
   ]
  },
  {
   "cell_type": "code",
   "execution_count": null,
   "id": "a0855ee6",
   "metadata": {},
   "outputs": [
    {
     "name": "stdout",
     "output_type": "stream",
     "text": [
      "Hello World! I love computer science.\n",
      "H\n",
      "Hel\n"
     ]
    }
   ],
   "source": [
    "MyString = \"Hello World!\"\n",
    "MyString2 = \"I love computer science.\"\n",
    "\n",
    "print(MyString + \" \" + MyString2)\n",
    "\n",
    "print(MyString[0])\n",
    "print(MyString[0:3])\n",
    "\n",
    "print(type(MyString))"
   ]
  },
  {
   "cell_type": "code",
   "execution_count": null,
   "id": "d655c853",
   "metadata": {},
   "outputs": [],
   "source": [
    "if a < b:\n",
    "    print(\"a is less than b\")\n",
    "else:\n",
    "    print(\"a is not less than b\")"
   ]
  },
  {
   "cell_type": "code",
   "execution_count": 8,
   "id": "4cd1f966",
   "metadata": {},
   "outputs": [
    {
     "name": "stdout",
     "output_type": "stream",
     "text": [
      "7\n",
      "22\n",
      "11\n",
      "34\n",
      "17\n",
      "52\n",
      "26\n",
      "13\n",
      "40\n",
      "20\n",
      "10\n",
      "5\n",
      "16\n",
      "8\n",
      "4\n",
      "2\n"
     ]
    }
   ],
   "source": [
    "#collatz conjecture if a number is positive and odd you multiply by 3 and add 1 if it's even you divide by 2 and this should lead to 1 eventually.\n",
    "def collatz(n: int) -> int:\n",
    "    if n % 2 == 1:\n",
    "        return 3*n+1\n",
    "    else:\n",
    "        return n//2\n",
    "    \n",
    "\n",
    "\n",
    "mynum = 7\n",
    "\n",
    "while (mynum != 1):\n",
    "    print(mynum)\n",
    "    mynum = collatz(mynum)"
   ]
  },
  {
   "cell_type": "code",
   "execution_count": 11,
   "id": "c83f8ace",
   "metadata": {},
   "outputs": [],
   "source": [
    "class Enemy:\n",
    "\n",
    "    def __init__(self, health):\n",
    "        self.health = health\n",
    "\n",
    "    def damage(self, damageamt):\n",
    "        self.health = self.health - damageamt\n",
    "\n",
    "\n",
    "class Goomba (Enemy):\n",
    "\n",
    "    def __init__(self, health):\n",
    "        super().__init__(health)\n",
    "\n",
    "        self.color = 'Brown'\n",
    "\n",
    "enemy1 = Goomba(5)\n",
    "\n",
    "enemy1.damage(4)"
   ]
  }
 ],
 "metadata": {
  "kernelspec": {
   "display_name": "Python 3",
   "language": "python",
   "name": "python3"
  },
  "language_info": {
   "codemirror_mode": {
    "name": "ipython",
    "version": 3
   },
   "file_extension": ".py",
   "mimetype": "text/x-python",
   "name": "python",
   "nbconvert_exporter": "python",
   "pygments_lexer": "ipython3",
   "version": "3.13.7"
  }
 },
 "nbformat": 4,
 "nbformat_minor": 5
}
