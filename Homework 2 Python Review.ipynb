{
 "cells": [
  {
   "cell_type": "code",
   "execution_count": 1,
   "id": "05ac456d",
   "metadata": {},
   "outputs": [
    {
     "name": "stdout",
     "output_type": "stream",
     "text": [
      "The value of foo is 21 and its type is <class 'int'>\n",
      "The value of foo is 3.14 and its type is <class 'float'>\n",
      "The value of foo is David Adesanya and its type is <class 'str'>\n"
     ]
    }
   ],
   "source": [
    "from math import sqrt\n",
    "\n",
    "\n",
    "# TASK 1\n",
    "\n",
    "\n",
    "foo = 21\n",
    "bar = 3.14\n",
    "myname = \"David Adesanya\"\n",
    "\n",
    "print(f\"The value of foo is {foo} and its type is {type(foo)}\")\n",
    "print(f\"The value of foo is {bar} and its type is {type(bar)}\")\n",
    "print(f\"The value of foo is {myname} and its type is {type(myname)}\")"
   ]
  },
  {
   "cell_type": "code",
   "execution_count": 2,
   "id": "7dcd57c5",
   "metadata": {},
   "outputs": [
    {
     "name": "stdout",
     "output_type": "stream",
     "text": [
      "21 is greater than or equal to 3.14\n",
      "1 squared is 1\n",
      "2 squared is 4\n",
      "3 squared is 9\n",
      "4 squared is 16\n",
      "5 squared is 25\n",
      "6 squared is 36\n",
      "7 squared is 49\n",
      "8 squared is 64\n",
      "9 squared is 81\n",
      "10 squared is 100\n",
      "1 squared is 1\n",
      "2 squared is 4\n",
      "3 squared is 9\n",
      "4 squared is 16\n",
      "5 squared is 25\n",
      "6 squared is 36\n",
      "8 squared is 64\n",
      "9 squared is 81\n",
      "10 squared is 100\n"
     ]
    }
   ],
   "source": [
    "#TASK 2\n",
    "\n",
    "if foo < bar:\n",
    "    print(f\"{foo} is smaller than {bar}\")\n",
    "else:\n",
    "    print(f\"{foo} is greater than or equal to {bar}\")\n",
    "\n",
    "for x in range(1, 11):\n",
    "    print(f\"{x} squared is {x**2}\")\n",
    "\n",
    "for y in range(1, 11):\n",
    "    if y == 7:\n",
    "        continue\n",
    "    print(f\"{y} squared is {y**2}\")"
   ]
  },
  {
   "cell_type": "code",
   "execution_count": 3,
   "id": "14a6bebb",
   "metadata": {},
   "outputs": [
    {
     "name": "stdout",
     "output_type": "stream",
     "text": [
      "Is the number 3 prime?: True\n",
      "Is the number 5 prime?: True\n",
      "Is the number 7 prime?: True\n",
      "Is the number 11 prime?: True\n"
     ]
    }
   ],
   "source": [
    "#TASK 3\n",
    "\n",
    "def myint(mynum: int) -> int:\n",
    "    if mynum < 2:\n",
    "        return False\n",
    "    for x in range(2, int(sqrt(mynum)) + 1):\n",
    "        if mynum % x == 0:\n",
    "            return False\n",
    "    return True\n",
    "\n",
    "numbers = [3, 5, 7, 11]\n",
    "\n",
    "for y in numbers:\n",
    "    print(f\"Is the number {y} prime?: {myint(y)}\")"
   ]
  },
  {
   "cell_type": "code",
   "execution_count": 4,
   "id": "e2ebd4f6",
   "metadata": {},
   "outputs": [
    {
     "name": "stdout",
     "output_type": "stream",
     "text": [
      "The area of the triangle is 6.0\n"
     ]
    }
   ],
   "source": [
    "#TASK 4\n",
    "\n",
    "class Vertex:\n",
    "    def __init__(self, xcoord, ycoord):\n",
    "        self.x = xcoord\n",
    "        self.y = ycoord\n",
    "def Distance(v1: \"Vertex\", v2:\"Vertex\") -> float:\n",
    "    return sqrt((v1.x - v2.x)**2 + (v1.y - v2.y)**2)\n",
    "\n",
    "class Triangle:\n",
    "    def __init__(self, v1: \"Vertex\", v2: \"Vertex\", v3: \"Vertex\"):\n",
    "        self.v1 = v1\n",
    "        self.v2 = v2\n",
    "        self.v3 = v3\n",
    "    \n",
    "    def area(self) -> float:\n",
    "        a = Distance(self.v1, self.v2)\n",
    "        b = Distance(self.v2, self.v3)\n",
    "        c = Distance(self.v3, self.v1)\n",
    "\n",
    "        s = (a + b + c) / 2\n",
    "        return sqrt(s * (s - a) * (s - b) * (s - c))\n",
    "    \n",
    "v1 = Vertex(0, 0)\n",
    "v2 = Vertex(4, 0)\n",
    "v3 = Vertex(0, 3)\n",
    "\n",
    "triangle = Triangle(v1, v2, v3)\n",
    "\n",
    "print(f\"The area of the triangle is {triangle.area()}\")"
   ]
  }
 ],
 "metadata": {
  "kernelspec": {
   "display_name": "Python 3",
   "language": "python",
   "name": "python3"
  },
  "language_info": {
   "codemirror_mode": {
    "name": "ipython",
    "version": 3
   },
   "file_extension": ".py",
   "mimetype": "text/x-python",
   "name": "python",
   "nbconvert_exporter": "python",
   "pygments_lexer": "ipython3",
   "version": "3.13.7"
  }
 },
 "nbformat": 4,
 "nbformat_minor": 5
}
